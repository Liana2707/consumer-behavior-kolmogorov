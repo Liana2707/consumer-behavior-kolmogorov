{
 "cells": [
  {
   "cell_type": "code",
   "execution_count": null,
   "metadata": {},
   "outputs": [],
   "source": [
    "!pip install pandas numpy lempel-ziv-complexity dahuffman"
   ]
  },
  {
   "cell_type": "markdown",
   "metadata": {},
   "source": [
    "# Исследование предсказуемости потребительского поведения по оценке Колмогоровской сложности"
   ]
  },
  {
   "cell_type": "code",
   "execution_count": 120,
   "metadata": {},
   "outputs": [],
   "source": [
    "import pandas as pd\n",
    "import numpy as np"
   ]
  },
  {
   "cell_type": "code",
   "execution_count": 121,
   "metadata": {},
   "outputs": [
    {
     "data": {
      "text/html": [
       "<div>\n",
       "<style scoped>\n",
       "    .dataframe tbody tr th:only-of-type {\n",
       "        vertical-align: middle;\n",
       "    }\n",
       "\n",
       "    .dataframe tbody tr th {\n",
       "        vertical-align: top;\n",
       "    }\n",
       "\n",
       "    .dataframe thead th {\n",
       "        text-align: right;\n",
       "    }\n",
       "</style>\n",
       "<table border=\"1\" class=\"dataframe\">\n",
       "  <thead>\n",
       "    <tr style=\"text-align: right;\">\n",
       "      <th></th>\n",
       "      <th>client</th>\n",
       "      <th>card</th>\n",
       "      <th>date</th>\n",
       "      <th>amt</th>\n",
       "      <th>mcc</th>\n",
       "      <th>group</th>\n",
       "      <th>value</th>\n",
       "    </tr>\n",
       "  </thead>\n",
       "  <tbody>\n",
       "    <tr>\n",
       "      <th>0</th>\n",
       "      <td>390989</td>\n",
       "      <td>3048567</td>\n",
       "      <td>2018-01-01</td>\n",
       "      <td>878.0</td>\n",
       "      <td>5814</td>\n",
       "      <td>food</td>\n",
       "      <td>survival</td>\n",
       "    </tr>\n",
       "    <tr>\n",
       "      <th>1</th>\n",
       "      <td>1309946</td>\n",
       "      <td>3226559</td>\n",
       "      <td>2018-01-01</td>\n",
       "      <td>249.0</td>\n",
       "      <td>5411</td>\n",
       "      <td>food</td>\n",
       "      <td>survival</td>\n",
       "    </tr>\n",
       "    <tr>\n",
       "      <th>2</th>\n",
       "      <td>1386278</td>\n",
       "      <td>2715990</td>\n",
       "      <td>2018-01-01</td>\n",
       "      <td>50.0</td>\n",
       "      <td>5499</td>\n",
       "      <td>food</td>\n",
       "      <td>survival</td>\n",
       "    </tr>\n",
       "  </tbody>\n",
       "</table>\n",
       "</div>"
      ],
      "text/plain": [
       "    client     card       date    amt   mcc group     value\n",
       "0   390989  3048567 2018-01-01  878.0  5814  food  survival\n",
       "1  1309946  3226559 2018-01-01  249.0  5411  food  survival\n",
       "2  1386278  2715990 2018-01-01   50.0  5499  food  survival"
      ]
     },
     "execution_count": 121,
     "metadata": {},
     "output_type": "execute_result"
    }
   ],
   "source": [
    "data = pd.read_csv('transaction18_22/transact_18_22.csv', parse_dates=[2])\n",
    "data.head(3)"
   ]
  },
  {
   "cell_type": "markdown",
   "metadata": {},
   "source": [
    "## Предварительная обработка данных"
   ]
  },
  {
   "cell_type": "code",
   "execution_count": 122,
   "metadata": {},
   "outputs": [
    {
     "data": {
      "text/html": [
       "<div>\n",
       "<style scoped>\n",
       "    .dataframe tbody tr th:only-of-type {\n",
       "        vertical-align: middle;\n",
       "    }\n",
       "\n",
       "    .dataframe tbody tr th {\n",
       "        vertical-align: top;\n",
       "    }\n",
       "\n",
       "    .dataframe thead th {\n",
       "        text-align: right;\n",
       "    }\n",
       "</style>\n",
       "<table border=\"1\" class=\"dataframe\">\n",
       "  <thead>\n",
       "    <tr style=\"text-align: right;\">\n",
       "      <th></th>\n",
       "      <th>client</th>\n",
       "      <th>card</th>\n",
       "      <th>date</th>\n",
       "      <th>amt</th>\n",
       "      <th>mcc</th>\n",
       "      <th>group</th>\n",
       "      <th>value</th>\n",
       "    </tr>\n",
       "  </thead>\n",
       "  <tbody>\n",
       "    <tr>\n",
       "      <th>3278420</th>\n",
       "      <td>1378858</td>\n",
       "      <td>2391344</td>\n",
       "      <td>2019-01-15</td>\n",
       "      <td>350.87</td>\n",
       "      <td>5499</td>\n",
       "      <td>food</td>\n",
       "      <td>survival</td>\n",
       "    </tr>\n",
       "    <tr>\n",
       "      <th>3278421</th>\n",
       "      <td>3103680</td>\n",
       "      <td>3187433</td>\n",
       "      <td>2019-01-15</td>\n",
       "      <td>2660.00</td>\n",
       "      <td>5331</td>\n",
       "      <td>nonfood</td>\n",
       "      <td>socialization</td>\n",
       "    </tr>\n",
       "    <tr>\n",
       "      <th>3278422</th>\n",
       "      <td>2136426</td>\n",
       "      <td>3762147</td>\n",
       "      <td>2019-01-15</td>\n",
       "      <td>485.00</td>\n",
       "      <td>5331</td>\n",
       "      <td>nonfood</td>\n",
       "      <td>socialization</td>\n",
       "    </tr>\n",
       "  </tbody>\n",
       "</table>\n",
       "</div>"
      ],
      "text/plain": [
       "          client     card       date      amt   mcc    group          value\n",
       "3278420  1378858  2391344 2019-01-15   350.87  5499     food       survival\n",
       "3278421  3103680  3187433 2019-01-15  2660.00  5331  nonfood  socialization\n",
       "3278422  2136426  3762147 2019-01-15   485.00  5331  nonfood  socialization"
      ]
     },
     "execution_count": 122,
     "metadata": {},
     "output_type": "execute_result"
    }
   ],
   "source": [
    "filtered_data = data[(data['date'] >= '2019-01-15') & (data['date'] <= '2019-12-14')]\n",
    "filtered_data.head(3)"
   ]
  },
  {
   "cell_type": "code",
   "execution_count": 123,
   "metadata": {},
   "outputs": [
    {
     "data": {
      "text/plain": [
       "array(['survival', 'socialization', 'money', 'self_realization', '7372',\n",
       "       '4411', '2741', '5681', '6211', '8249', '5094', '5983', '7278',\n",
       "       '7699', '5734', '7210', '7998', '7393', '5310', '3008', '5074',\n",
       "       '7216', '7251', '5950', '5713', '7629', '5047', '5733', '7929',\n",
       "       '7394', '3301', '5111', '3211', '5946', '8351', '5697', '5611',\n",
       "       '5131', '7622', '5976', '5970', '7379', '5655', '6513', '4214',\n",
       "       '5967', '5122', '5521', '5932', '5065', '5044', '5013', '7375',\n",
       "       '5811', '5933', '5099', '8111', '5072', '8661', '5300', '5532',\n",
       "       '7395', '8641', '5818', '5994', '8050', '7535', '5971', '7338',\n",
       "       '5045', '7996', '5172', '5051', '5817', '7333', '4582', '3010',\n",
       "       '5021', '5137', '7911', '7392', '3586', '7933', '5231', '5718',\n",
       "       '780', '7297', '7032', '5085', '1711', '8211', '1799', '7534',\n",
       "       '8699', '5046', '5940', '1731', '7829', '3553', '4119', '3042',\n",
       "       '5960', '3005', '5169', '5972', '5571', '3533', '3831', '7273',\n",
       "       '3246', '1520', '3245', '8042', '5698', '5199', '7321', '8931',\n",
       "       '3035', '3029', '3007', '4011', '7349', '7531', '3612', '7361',\n",
       "       '7932', '3047', '7993', '5975', '5978', '3579', '3649', '3543',\n",
       "       '3389', '2842', '5198', '5969', '3026', '3813', '3641', '7631',\n",
       "       '3509', '3504', '3088', '3501', '5139', '8244', '7211', '3742',\n",
       "       '763', '5599', '5965', '5973', '7623', '3028', '9405', '5996',\n",
       "       '7217', '3217', '5962', '9211', '3136', '3182', '3068', '3655',\n",
       "       '3030', '5561', '7261', '3780', '3590', '4829', '1750', '3811',\n",
       "       '8241', '7276', '5551', '7277', '7033', '3355', '2791', '3015',\n",
       "       '3503', '3051', '3077', '3672', '4468', '4457', '5963', '3692',\n",
       "       '3357', '3102', '3381', '3006', '3013', '3032', '8049', '3016',\n",
       "       '3583', '3526', '3050', '3750', '7519', '4225', '7012', '7992',\n",
       "       '3643', '3690', '3502', '5997', '3710', '8911', '5937', '6537',\n",
       "       '7339', '3387', '3512', '3642', '5271', '8734', '3366', '3206',\n",
       "       '5998', '3075', '3548', '3589', '6533'], dtype=object)"
      ]
     },
     "execution_count": 123,
     "metadata": {},
     "output_type": "execute_result"
    }
   ],
   "source": [
    "filtered_data['value'].unique()"
   ]
  },
  {
   "cell_type": "code",
   "execution_count": 124,
   "metadata": {},
   "outputs": [],
   "source": [
    "values_to_keep = ['socialization', 'survival', 'money', 'self_realization']\n",
    "filtered_data = filtered_data[filtered_data['value'].isin(values_to_keep)]"
   ]
  },
  {
   "cell_type": "code",
   "execution_count": 125,
   "metadata": {},
   "outputs": [
    {
     "data": {
      "text/plain": [
       "array(['food', 'nonfood', 'money', 'outfit', 'travel', 'health', 'fun',\n",
       "       'dwelling', 'beauty', 'telecom', 'kids', 'misc', 'remote',\n",
       "       'charity'], dtype=object)"
      ]
     },
     "execution_count": 125,
     "metadata": {},
     "output_type": "execute_result"
    }
   ],
   "source": [
    "filtered_data['group'].unique()"
   ]
  },
  {
   "cell_type": "code",
   "execution_count": 126,
   "metadata": {},
   "outputs": [
    {
     "data": {
      "text/html": [
       "<div>\n",
       "<style scoped>\n",
       "    .dataframe tbody tr th:only-of-type {\n",
       "        vertical-align: middle;\n",
       "    }\n",
       "\n",
       "    .dataframe tbody tr th {\n",
       "        vertical-align: top;\n",
       "    }\n",
       "\n",
       "    .dataframe thead th {\n",
       "        text-align: right;\n",
       "    }\n",
       "</style>\n",
       "<table border=\"1\" class=\"dataframe\">\n",
       "  <thead>\n",
       "    <tr style=\"text-align: right;\">\n",
       "      <th></th>\n",
       "      <th>client</th>\n",
       "      <th>card</th>\n",
       "      <th>date</th>\n",
       "      <th>amt</th>\n",
       "      <th>mcc</th>\n",
       "      <th>group</th>\n",
       "      <th>value</th>\n",
       "    </tr>\n",
       "  </thead>\n",
       "  <tbody>\n",
       "    <tr>\n",
       "      <th>3278420</th>\n",
       "      <td>1378858</td>\n",
       "      <td>2391344</td>\n",
       "      <td>2019-01-15</td>\n",
       "      <td>350.87</td>\n",
       "      <td>5499</td>\n",
       "      <td>food</td>\n",
       "      <td>survival</td>\n",
       "    </tr>\n",
       "    <tr>\n",
       "      <th>3278421</th>\n",
       "      <td>3103680</td>\n",
       "      <td>3187433</td>\n",
       "      <td>2019-01-15</td>\n",
       "      <td>2660.00</td>\n",
       "      <td>5331</td>\n",
       "      <td>nonfood</td>\n",
       "      <td>socialization</td>\n",
       "    </tr>\n",
       "    <tr>\n",
       "      <th>3278422</th>\n",
       "      <td>2136426</td>\n",
       "      <td>3762147</td>\n",
       "      <td>2019-01-15</td>\n",
       "      <td>485.00</td>\n",
       "      <td>5331</td>\n",
       "      <td>nonfood</td>\n",
       "      <td>socialization</td>\n",
       "    </tr>\n",
       "  </tbody>\n",
       "</table>\n",
       "</div>"
      ],
      "text/plain": [
       "          client     card       date      amt   mcc    group          value\n",
       "3278420  1378858  2391344 2019-01-15   350.87  5499     food       survival\n",
       "3278421  3103680  3187433 2019-01-15  2660.00  5331  nonfood  socialization\n",
       "3278422  2136426  3762147 2019-01-15   485.00  5331  nonfood  socialization"
      ]
     },
     "execution_count": 126,
     "metadata": {},
     "output_type": "execute_result"
    }
   ],
   "source": [
    "filtered_data.head(3)"
   ]
  },
  {
   "cell_type": "code",
   "execution_count": 127,
   "metadata": {},
   "outputs": [],
   "source": [
    "def binary_to_hex(row):\n",
    "    binary_string = ''.join(map(str, row))\n",
    "    decimal_value = int(binary_string, 2)\n",
    "    return hex(decimal_value)[2:]"
   ]
  },
  {
   "cell_type": "code",
   "execution_count": 128,
   "metadata": {},
   "outputs": [],
   "source": [
    "grouped = filtered_data.groupby(['client', 'date'])\n",
    "new_data = []\n",
    "for (client, date), group in grouped:\n",
    "    row = {'client': client, 'date': date}\n",
    "    for val in values_to_keep:\n",
    "        row[val] = 1 if val in group['value'].values else 0  \n",
    "    new_data.append(row)\n",
    "\n",
    "new_df = pd.DataFrame(new_data)\n",
    "new_df['code'] = new_df[['socialization', 'survival', 'money', 'self_realization']].apply(binary_to_hex, axis=1)"
   ]
  },
  {
   "cell_type": "code",
   "execution_count": 129,
   "metadata": {},
   "outputs": [
    {
     "data": {
      "text/html": [
       "<div>\n",
       "<style scoped>\n",
       "    .dataframe tbody tr th:only-of-type {\n",
       "        vertical-align: middle;\n",
       "    }\n",
       "\n",
       "    .dataframe tbody tr th {\n",
       "        vertical-align: top;\n",
       "    }\n",
       "\n",
       "    .dataframe thead th {\n",
       "        text-align: right;\n",
       "    }\n",
       "</style>\n",
       "<table border=\"1\" class=\"dataframe\">\n",
       "  <thead>\n",
       "    <tr style=\"text-align: right;\">\n",
       "      <th></th>\n",
       "      <th>client</th>\n",
       "      <th>date</th>\n",
       "      <th>socialization</th>\n",
       "      <th>survival</th>\n",
       "      <th>money</th>\n",
       "      <th>self_realization</th>\n",
       "      <th>code</th>\n",
       "    </tr>\n",
       "  </thead>\n",
       "  <tbody>\n",
       "    <tr>\n",
       "      <th>0</th>\n",
       "      <td>224</td>\n",
       "      <td>2019-01-15</td>\n",
       "      <td>1</td>\n",
       "      <td>0</td>\n",
       "      <td>0</td>\n",
       "      <td>0</td>\n",
       "      <td>8</td>\n",
       "    </tr>\n",
       "    <tr>\n",
       "      <th>1</th>\n",
       "      <td>224</td>\n",
       "      <td>2019-01-16</td>\n",
       "      <td>1</td>\n",
       "      <td>1</td>\n",
       "      <td>0</td>\n",
       "      <td>1</td>\n",
       "      <td>d</td>\n",
       "    </tr>\n",
       "    <tr>\n",
       "      <th>2</th>\n",
       "      <td>224</td>\n",
       "      <td>2019-01-17</td>\n",
       "      <td>1</td>\n",
       "      <td>1</td>\n",
       "      <td>0</td>\n",
       "      <td>0</td>\n",
       "      <td>c</td>\n",
       "    </tr>\n",
       "    <tr>\n",
       "      <th>3</th>\n",
       "      <td>224</td>\n",
       "      <td>2019-01-18</td>\n",
       "      <td>1</td>\n",
       "      <td>0</td>\n",
       "      <td>0</td>\n",
       "      <td>0</td>\n",
       "      <td>8</td>\n",
       "    </tr>\n",
       "    <tr>\n",
       "      <th>4</th>\n",
       "      <td>224</td>\n",
       "      <td>2019-01-19</td>\n",
       "      <td>1</td>\n",
       "      <td>0</td>\n",
       "      <td>0</td>\n",
       "      <td>1</td>\n",
       "      <td>9</td>\n",
       "    </tr>\n",
       "    <tr>\n",
       "      <th>5</th>\n",
       "      <td>224</td>\n",
       "      <td>2019-01-21</td>\n",
       "      <td>1</td>\n",
       "      <td>1</td>\n",
       "      <td>0</td>\n",
       "      <td>1</td>\n",
       "      <td>d</td>\n",
       "    </tr>\n",
       "    <tr>\n",
       "      <th>6</th>\n",
       "      <td>224</td>\n",
       "      <td>2019-01-22</td>\n",
       "      <td>1</td>\n",
       "      <td>0</td>\n",
       "      <td>0</td>\n",
       "      <td>0</td>\n",
       "      <td>8</td>\n",
       "    </tr>\n",
       "    <tr>\n",
       "      <th>7</th>\n",
       "      <td>224</td>\n",
       "      <td>2019-01-23</td>\n",
       "      <td>1</td>\n",
       "      <td>0</td>\n",
       "      <td>0</td>\n",
       "      <td>0</td>\n",
       "      <td>8</td>\n",
       "    </tr>\n",
       "    <tr>\n",
       "      <th>8</th>\n",
       "      <td>224</td>\n",
       "      <td>2019-01-24</td>\n",
       "      <td>1</td>\n",
       "      <td>0</td>\n",
       "      <td>0</td>\n",
       "      <td>0</td>\n",
       "      <td>8</td>\n",
       "    </tr>\n",
       "    <tr>\n",
       "      <th>9</th>\n",
       "      <td>224</td>\n",
       "      <td>2019-01-25</td>\n",
       "      <td>1</td>\n",
       "      <td>0</td>\n",
       "      <td>0</td>\n",
       "      <td>0</td>\n",
       "      <td>8</td>\n",
       "    </tr>\n",
       "  </tbody>\n",
       "</table>\n",
       "</div>"
      ],
      "text/plain": [
       "   client       date  socialization  survival  money  self_realization code\n",
       "0     224 2019-01-15              1         0      0                 0    8\n",
       "1     224 2019-01-16              1         1      0                 1    d\n",
       "2     224 2019-01-17              1         1      0                 0    c\n",
       "3     224 2019-01-18              1         0      0                 0    8\n",
       "4     224 2019-01-19              1         0      0                 1    9\n",
       "5     224 2019-01-21              1         1      0                 1    d\n",
       "6     224 2019-01-22              1         0      0                 0    8\n",
       "7     224 2019-01-23              1         0      0                 0    8\n",
       "8     224 2019-01-24              1         0      0                 0    8\n",
       "9     224 2019-01-25              1         0      0                 0    8"
      ]
     },
     "execution_count": 129,
     "metadata": {},
     "output_type": "execute_result"
    }
   ],
   "source": [
    "new_df.head(10)"
   ]
  },
  {
   "cell_type": "markdown",
   "metadata": {},
   "source": [
    "## Алгоритм оценки Колмогоровской сложности "
   ]
  },
  {
   "cell_type": "markdown",
   "metadata": {},
   "source": [
    "### Оценка сложности для one dimensional измерений"
   ]
  },
  {
   "cell_type": "code",
   "execution_count": 130,
   "metadata": {},
   "outputs": [],
   "source": [
    "from lempel_ziv_complexity import lempel_ziv_complexity"
   ]
  },
  {
   "cell_type": "code",
   "execution_count": 139,
   "metadata": {},
   "outputs": [],
   "source": [
    "def calculate_lz_complexity(series):\n",
    "    return lempel_ziv_complexity(series.astype(str).str.cat()) / (len(series) * 4)"
   ]
  },
  {
   "cell_type": "code",
   "execution_count": 140,
   "metadata": {},
   "outputs": [
    {
     "data": {
      "text/html": [
       "<div>\n",
       "<style scoped>\n",
       "    .dataframe tbody tr th:only-of-type {\n",
       "        vertical-align: middle;\n",
       "    }\n",
       "\n",
       "    .dataframe tbody tr th {\n",
       "        vertical-align: top;\n",
       "    }\n",
       "\n",
       "    .dataframe thead th {\n",
       "        text-align: right;\n",
       "    }\n",
       "</style>\n",
       "<table border=\"1\" class=\"dataframe\">\n",
       "  <thead>\n",
       "    <tr style=\"text-align: right;\">\n",
       "      <th></th>\n",
       "      <th>socialization</th>\n",
       "      <th>survival</th>\n",
       "      <th>money</th>\n",
       "      <th>self_realization</th>\n",
       "    </tr>\n",
       "    <tr>\n",
       "      <th>client</th>\n",
       "      <th></th>\n",
       "      <th></th>\n",
       "      <th></th>\n",
       "      <th></th>\n",
       "    </tr>\n",
       "  </thead>\n",
       "  <tbody>\n",
       "    <tr>\n",
       "      <th>224</th>\n",
       "      <td>0.053089</td>\n",
       "      <td>0.044402</td>\n",
       "      <td>0.023166</td>\n",
       "      <td>0.034749</td>\n",
       "    </tr>\n",
       "    <tr>\n",
       "      <th>1108</th>\n",
       "      <td>0.031780</td>\n",
       "      <td>0.065678</td>\n",
       "      <td>0.065678</td>\n",
       "      <td>0.057203</td>\n",
       "    </tr>\n",
       "    <tr>\n",
       "      <th>1117</th>\n",
       "      <td>0.058511</td>\n",
       "      <td>0.058511</td>\n",
       "      <td>0.058511</td>\n",
       "      <td>0.039007</td>\n",
       "    </tr>\n",
       "    <tr>\n",
       "      <th>1197</th>\n",
       "      <td>0.040842</td>\n",
       "      <td>0.058168</td>\n",
       "      <td>0.038366</td>\n",
       "      <td>0.050743</td>\n",
       "    </tr>\n",
       "    <tr>\n",
       "      <th>1223</th>\n",
       "      <td>0.062500</td>\n",
       "      <td>0.060268</td>\n",
       "      <td>0.053571</td>\n",
       "      <td>0.060268</td>\n",
       "    </tr>\n",
       "  </tbody>\n",
       "</table>\n",
       "</div>"
      ],
      "text/plain": [
       "        socialization  survival     money  self_realization\n",
       "client                                                     \n",
       "224          0.053089  0.044402  0.023166          0.034749\n",
       "1108         0.031780  0.065678  0.065678          0.057203\n",
       "1117         0.058511  0.058511  0.058511          0.039007\n",
       "1197         0.040842  0.058168  0.038366          0.050743\n",
       "1223         0.062500  0.060268  0.053571          0.060268"
      ]
     },
     "execution_count": 140,
     "metadata": {},
     "output_type": "execute_result"
    }
   ],
   "source": [
    "client_lz_complexity = new_df.groupby('client')[['socialization', 'survival', 'money', 'self_realization']].agg(calculate_lz_complexity)\n",
    "\n",
    "client_lz_complexity.head(5)"
   ]
  },
  {
   "cell_type": "markdown",
   "metadata": {},
   "source": [
    "### Оценка сложности для multidimensional измерений"
   ]
  },
  {
   "cell_type": "markdown",
   "metadata": {},
   "source": [
    "#### Алгоритм Хаффмана"
   ]
  },
  {
   "cell_type": "code",
   "execution_count": 141,
   "metadata": {},
   "outputs": [],
   "source": [
    "from dahuffman import HuffmanCodec"
   ]
  },
  {
   "cell_type": "code",
   "execution_count": 142,
   "metadata": {},
   "outputs": [],
   "source": [
    "def huffman_compression_ratio(text):\n",
    "    codec = HuffmanCodec.from_data(text)\n",
    "    compressed_text = codec.encode(text)\n",
    "    return len(compressed_text) / (len(text) * 4)"
   ]
  },
  {
   "cell_type": "code",
   "execution_count": 143,
   "metadata": {},
   "outputs": [],
   "source": [
    "huffman_compression = new_df.groupby('client')[['code']].agg(huffman_compression_ratio)"
   ]
  },
  {
   "cell_type": "code",
   "execution_count": 144,
   "metadata": {},
   "outputs": [
    {
     "data": {
      "text/html": [
       "<div>\n",
       "<style scoped>\n",
       "    .dataframe tbody tr th:only-of-type {\n",
       "        vertical-align: middle;\n",
       "    }\n",
       "\n",
       "    .dataframe tbody tr th {\n",
       "        vertical-align: top;\n",
       "    }\n",
       "\n",
       "    .dataframe thead th {\n",
       "        text-align: right;\n",
       "    }\n",
       "</style>\n",
       "<table border=\"1\" class=\"dataframe\">\n",
       "  <thead>\n",
       "    <tr style=\"text-align: right;\">\n",
       "      <th></th>\n",
       "      <th>code</th>\n",
       "    </tr>\n",
       "    <tr>\n",
       "      <th>client</th>\n",
       "      <th></th>\n",
       "    </tr>\n",
       "  </thead>\n",
       "  <tbody>\n",
       "    <tr>\n",
       "      <th>224</th>\n",
       "      <td>0.061776</td>\n",
       "    </tr>\n",
       "    <tr>\n",
       "      <th>1108</th>\n",
       "      <td>0.074153</td>\n",
       "    </tr>\n",
       "    <tr>\n",
       "      <th>1117</th>\n",
       "      <td>0.085106</td>\n",
       "    </tr>\n",
       "    <tr>\n",
       "      <th>1197</th>\n",
       "      <td>0.073020</td>\n",
       "    </tr>\n",
       "    <tr>\n",
       "      <th>1223</th>\n",
       "      <td>0.084821</td>\n",
       "    </tr>\n",
       "  </tbody>\n",
       "</table>\n",
       "</div>"
      ],
      "text/plain": [
       "            code\n",
       "client          \n",
       "224     0.061776\n",
       "1108    0.074153\n",
       "1117    0.085106\n",
       "1197    0.073020\n",
       "1223    0.084821"
      ]
     },
     "execution_count": 144,
     "metadata": {},
     "output_type": "execute_result"
    }
   ],
   "source": [
    "huffman_compression.head(5)"
   ]
  },
  {
   "cell_type": "markdown",
   "metadata": {},
   "source": [
    "#### Алгоритм Лемпеля-Зива-Велча (LZW)"
   ]
  },
  {
   "cell_type": "code",
   "execution_count": 145,
   "metadata": {},
   "outputs": [
    {
     "data": {
      "text/html": [
       "<div>\n",
       "<style scoped>\n",
       "    .dataframe tbody tr th:only-of-type {\n",
       "        vertical-align: middle;\n",
       "    }\n",
       "\n",
       "    .dataframe tbody tr th {\n",
       "        vertical-align: top;\n",
       "    }\n",
       "\n",
       "    .dataframe thead th {\n",
       "        text-align: right;\n",
       "    }\n",
       "</style>\n",
       "<table border=\"1\" class=\"dataframe\">\n",
       "  <thead>\n",
       "    <tr style=\"text-align: right;\">\n",
       "      <th></th>\n",
       "      <th>code</th>\n",
       "    </tr>\n",
       "    <tr>\n",
       "      <th>client</th>\n",
       "      <th></th>\n",
       "    </tr>\n",
       "  </thead>\n",
       "  <tbody>\n",
       "    <tr>\n",
       "      <th>224</th>\n",
       "      <td>0.076255</td>\n",
       "    </tr>\n",
       "    <tr>\n",
       "      <th>1108</th>\n",
       "      <td>0.103814</td>\n",
       "    </tr>\n",
       "    <tr>\n",
       "      <th>1117</th>\n",
       "      <td>0.104610</td>\n",
       "    </tr>\n",
       "    <tr>\n",
       "      <th>1197</th>\n",
       "      <td>0.085396</td>\n",
       "    </tr>\n",
       "    <tr>\n",
       "      <th>1223</th>\n",
       "      <td>0.109375</td>\n",
       "    </tr>\n",
       "  </tbody>\n",
       "</table>\n",
       "</div>"
      ],
      "text/plain": [
       "            code\n",
       "client          \n",
       "224     0.076255\n",
       "1108    0.103814\n",
       "1117    0.104610\n",
       "1197    0.085396\n",
       "1223    0.109375"
      ]
     },
     "execution_count": 145,
     "metadata": {},
     "output_type": "execute_result"
    }
   ],
   "source": [
    "client_lz_compression = new_df.groupby('client')[['code']].agg(calculate_lz_complexity)\n",
    "\n",
    "client_lz_compression.head(5)"
   ]
  },
  {
   "cell_type": "code",
   "execution_count": null,
   "metadata": {},
   "outputs": [],
   "source": []
  }
 ],
 "metadata": {
  "kernelspec": {
   "display_name": "Python 3",
   "language": "python",
   "name": "python3"
  },
  "language_info": {
   "codemirror_mode": {
    "name": "ipython",
    "version": 3
   },
   "file_extension": ".py",
   "mimetype": "text/x-python",
   "name": "python",
   "nbconvert_exporter": "python",
   "pygments_lexer": "ipython3",
   "version": "3.12.7"
  }
 },
 "nbformat": 4,
 "nbformat_minor": 2
}
