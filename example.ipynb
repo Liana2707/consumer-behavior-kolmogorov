{
 "cells": [
  {
   "cell_type": "code",
   "execution_count": null,
   "metadata": {},
   "outputs": [],
   "source": [
    "!pip install pandas numpy scipy matplotlib seaborn scikit-learn keras tensorflow"
   ]
  },
  {
   "cell_type": "markdown",
   "metadata": {},
   "source": [
    "# Исследование предсказуемости потребительского поведения по оценке Колмогоровской сложности"
   ]
  },
  {
   "cell_type": "code",
   "execution_count": null,
   "metadata": {},
   "outputs": [],
   "source": [
    "import pandas as pd\n",
    "import numpy as np\n",
    "from matplotlib import pyplot as plt\n",
    "from scipy.linalg import hankel\n",
    "\n",
    "import tensorflow as tf \n",
    "from tensorflow import keras\n",
    "from tensorflow.keras.layers import LSTM, Dropout, Dense\n",
    "\n",
    "from sklearn.model_selection import train_test_split"
   ]
  },
  {
   "cell_type": "code",
   "execution_count": 30,
   "metadata": {},
   "outputs": [],
   "source": [
    "from lempel_ziv import *\n",
    "from huffman import *"
   ]
  },
  {
   "cell_type": "code",
   "execution_count": 31,
   "metadata": {},
   "outputs": [
    {
     "data": {
      "text/html": [
       "<div>\n",
       "<style scoped>\n",
       "    .dataframe tbody tr th:only-of-type {\n",
       "        vertical-align: middle;\n",
       "    }\n",
       "\n",
       "    .dataframe tbody tr th {\n",
       "        vertical-align: top;\n",
       "    }\n",
       "\n",
       "    .dataframe thead th {\n",
       "        text-align: right;\n",
       "    }\n",
       "</style>\n",
       "<table border=\"1\" class=\"dataframe\">\n",
       "  <thead>\n",
       "    <tr style=\"text-align: right;\">\n",
       "      <th></th>\n",
       "      <th>client</th>\n",
       "      <th>card</th>\n",
       "      <th>date</th>\n",
       "      <th>amt</th>\n",
       "      <th>mcc</th>\n",
       "      <th>group</th>\n",
       "      <th>value</th>\n",
       "    </tr>\n",
       "  </thead>\n",
       "  <tbody>\n",
       "    <tr>\n",
       "      <th>0</th>\n",
       "      <td>390989</td>\n",
       "      <td>3048567</td>\n",
       "      <td>2018-01-01</td>\n",
       "      <td>878.0</td>\n",
       "      <td>5814</td>\n",
       "      <td>food</td>\n",
       "      <td>survival</td>\n",
       "    </tr>\n",
       "    <tr>\n",
       "      <th>1</th>\n",
       "      <td>1309946</td>\n",
       "      <td>3226559</td>\n",
       "      <td>2018-01-01</td>\n",
       "      <td>249.0</td>\n",
       "      <td>5411</td>\n",
       "      <td>food</td>\n",
       "      <td>survival</td>\n",
       "    </tr>\n",
       "    <tr>\n",
       "      <th>2</th>\n",
       "      <td>1386278</td>\n",
       "      <td>2715990</td>\n",
       "      <td>2018-01-01</td>\n",
       "      <td>50.0</td>\n",
       "      <td>5499</td>\n",
       "      <td>food</td>\n",
       "      <td>survival</td>\n",
       "    </tr>\n",
       "  </tbody>\n",
       "</table>\n",
       "</div>"
      ],
      "text/plain": [
       "    client     card       date    amt   mcc group     value\n",
       "0   390989  3048567 2018-01-01  878.0  5814  food  survival\n",
       "1  1309946  3226559 2018-01-01  249.0  5411  food  survival\n",
       "2  1386278  2715990 2018-01-01   50.0  5499  food  survival"
      ]
     },
     "execution_count": 31,
     "metadata": {},
     "output_type": "execute_result"
    }
   ],
   "source": [
    "data = pd.read_csv('data/transact_18_22.csv', parse_dates=[2])\n",
    "data.head(3)"
   ]
  },
  {
   "cell_type": "markdown",
   "metadata": {},
   "source": [
    "## Предварительная обработка данных"
   ]
  },
  {
   "cell_type": "code",
   "execution_count": 32,
   "metadata": {},
   "outputs": [
    {
     "data": {
      "text/html": [
       "<div>\n",
       "<style scoped>\n",
       "    .dataframe tbody tr th:only-of-type {\n",
       "        vertical-align: middle;\n",
       "    }\n",
       "\n",
       "    .dataframe tbody tr th {\n",
       "        vertical-align: top;\n",
       "    }\n",
       "\n",
       "    .dataframe thead th {\n",
       "        text-align: right;\n",
       "    }\n",
       "</style>\n",
       "<table border=\"1\" class=\"dataframe\">\n",
       "  <thead>\n",
       "    <tr style=\"text-align: right;\">\n",
       "      <th></th>\n",
       "      <th>client</th>\n",
       "      <th>card</th>\n",
       "      <th>date</th>\n",
       "      <th>amt</th>\n",
       "      <th>mcc</th>\n",
       "      <th>group</th>\n",
       "      <th>value</th>\n",
       "    </tr>\n",
       "  </thead>\n",
       "  <tbody>\n",
       "    <tr>\n",
       "      <th>3278420</th>\n",
       "      <td>1378858</td>\n",
       "      <td>2391344</td>\n",
       "      <td>2019-01-15</td>\n",
       "      <td>350.87</td>\n",
       "      <td>5499</td>\n",
       "      <td>food</td>\n",
       "      <td>survival</td>\n",
       "    </tr>\n",
       "    <tr>\n",
       "      <th>3278421</th>\n",
       "      <td>3103680</td>\n",
       "      <td>3187433</td>\n",
       "      <td>2019-01-15</td>\n",
       "      <td>2660.00</td>\n",
       "      <td>5331</td>\n",
       "      <td>nonfood</td>\n",
       "      <td>socialization</td>\n",
       "    </tr>\n",
       "    <tr>\n",
       "      <th>3278422</th>\n",
       "      <td>2136426</td>\n",
       "      <td>3762147</td>\n",
       "      <td>2019-01-15</td>\n",
       "      <td>485.00</td>\n",
       "      <td>5331</td>\n",
       "      <td>nonfood</td>\n",
       "      <td>socialization</td>\n",
       "    </tr>\n",
       "  </tbody>\n",
       "</table>\n",
       "</div>"
      ],
      "text/plain": [
       "          client     card       date      amt   mcc    group          value\n",
       "3278420  1378858  2391344 2019-01-15   350.87  5499     food       survival\n",
       "3278421  3103680  3187433 2019-01-15  2660.00  5331  nonfood  socialization\n",
       "3278422  2136426  3762147 2019-01-15   485.00  5331  nonfood  socialization"
      ]
     },
     "execution_count": 32,
     "metadata": {},
     "output_type": "execute_result"
    }
   ],
   "source": [
    "filtered_data = data[(data['date'] >= '2019-01-15') & (data['date'] <= '2019-12-14')]\n",
    "filtered_data.head(3)"
   ]
  },
  {
   "cell_type": "code",
   "execution_count": 33,
   "metadata": {},
   "outputs": [
    {
     "data": {
      "text/plain": [
       "array(['survival', 'socialization', 'money', 'self_realization', '7372',\n",
       "       '4411', '2741', '5681', '6211', '8249', '5094', '5983', '7278',\n",
       "       '7699', '5734', '7210', '7998', '7393', '5310', '3008', '5074',\n",
       "       '7216', '7251', '5950', '5713', '7629', '5047', '5733', '7929',\n",
       "       '7394', '3301', '5111', '3211', '5946', '8351', '5697', '5611',\n",
       "       '5131', '7622', '5976', '5970', '7379', '5655', '6513', '4214',\n",
       "       '5967', '5122', '5521', '5932', '5065', '5044', '5013', '7375',\n",
       "       '5811', '5933', '5099', '8111', '5072', '8661', '5300', '5532',\n",
       "       '7395', '8641', '5818', '5994', '8050', '7535', '5971', '7338',\n",
       "       '5045', '7996', '5172', '5051', '5817', '7333', '4582', '3010',\n",
       "       '5021', '5137', '7911', '7392', '3586', '7933', '5231', '5718',\n",
       "       '780', '7297', '7032', '5085', '1711', '8211', '1799', '7534',\n",
       "       '8699', '5046', '5940', '1731', '7829', '3553', '4119', '3042',\n",
       "       '5960', '3005', '5169', '5972', '5571', '3533', '3831', '7273',\n",
       "       '3246', '1520', '3245', '8042', '5698', '5199', '7321', '8931',\n",
       "       '3035', '3029', '3007', '4011', '7349', '7531', '3612', '7361',\n",
       "       '7932', '3047', '7993', '5975', '5978', '3579', '3649', '3543',\n",
       "       '3389', '2842', '5198', '5969', '3026', '3813', '3641', '7631',\n",
       "       '3509', '3504', '3088', '3501', '5139', '8244', '7211', '3742',\n",
       "       '763', '5599', '5965', '5973', '7623', '3028', '9405', '5996',\n",
       "       '7217', '3217', '5962', '9211', '3136', '3182', '3068', '3655',\n",
       "       '3030', '5561', '7261', '3780', '3590', '4829', '1750', '3811',\n",
       "       '8241', '7276', '5551', '7277', '7033', '3355', '2791', '3015',\n",
       "       '3503', '3051', '3077', '3672', '4468', '4457', '5963', '3692',\n",
       "       '3357', '3102', '3381', '3006', '3013', '3032', '8049', '3016',\n",
       "       '3583', '3526', '3050', '3750', '7519', '4225', '7012', '7992',\n",
       "       '3643', '3690', '3502', '5997', '3710', '8911', '5937', '6537',\n",
       "       '7339', '3387', '3512', '3642', '5271', '8734', '3366', '3206',\n",
       "       '5998', '3075', '3548', '3589', '6533'], dtype=object)"
      ]
     },
     "execution_count": 33,
     "metadata": {},
     "output_type": "execute_result"
    }
   ],
   "source": [
    "filtered_data['value'].unique()"
   ]
  },
  {
   "cell_type": "code",
   "execution_count": 34,
   "metadata": {},
   "outputs": [],
   "source": [
    "values_to_keep = ['socialization', 'survival', 'money', 'self_realization']\n",
    "filtered_data = filtered_data[filtered_data['value'].isin(values_to_keep)]"
   ]
  },
  {
   "cell_type": "code",
   "execution_count": 35,
   "metadata": {},
   "outputs": [
    {
     "data": {
      "text/plain": [
       "array(['food', 'nonfood', 'money', 'outfit', 'travel', 'health', 'fun',\n",
       "       'dwelling', 'beauty', 'telecom', 'kids', 'misc', 'remote',\n",
       "       'charity'], dtype=object)"
      ]
     },
     "execution_count": 35,
     "metadata": {},
     "output_type": "execute_result"
    }
   ],
   "source": [
    "filtered_data['group'].unique()"
   ]
  },
  {
   "cell_type": "code",
   "execution_count": 36,
   "metadata": {},
   "outputs": [
    {
     "data": {
      "text/html": [
       "<div>\n",
       "<style scoped>\n",
       "    .dataframe tbody tr th:only-of-type {\n",
       "        vertical-align: middle;\n",
       "    }\n",
       "\n",
       "    .dataframe tbody tr th {\n",
       "        vertical-align: top;\n",
       "    }\n",
       "\n",
       "    .dataframe thead th {\n",
       "        text-align: right;\n",
       "    }\n",
       "</style>\n",
       "<table border=\"1\" class=\"dataframe\">\n",
       "  <thead>\n",
       "    <tr style=\"text-align: right;\">\n",
       "      <th></th>\n",
       "      <th>client</th>\n",
       "      <th>card</th>\n",
       "      <th>date</th>\n",
       "      <th>amt</th>\n",
       "      <th>mcc</th>\n",
       "      <th>group</th>\n",
       "      <th>value</th>\n",
       "    </tr>\n",
       "  </thead>\n",
       "  <tbody>\n",
       "    <tr>\n",
       "      <th>3278420</th>\n",
       "      <td>1378858</td>\n",
       "      <td>2391344</td>\n",
       "      <td>2019-01-15</td>\n",
       "      <td>350.87</td>\n",
       "      <td>5499</td>\n",
       "      <td>food</td>\n",
       "      <td>survival</td>\n",
       "    </tr>\n",
       "    <tr>\n",
       "      <th>3278421</th>\n",
       "      <td>3103680</td>\n",
       "      <td>3187433</td>\n",
       "      <td>2019-01-15</td>\n",
       "      <td>2660.00</td>\n",
       "      <td>5331</td>\n",
       "      <td>nonfood</td>\n",
       "      <td>socialization</td>\n",
       "    </tr>\n",
       "    <tr>\n",
       "      <th>3278422</th>\n",
       "      <td>2136426</td>\n",
       "      <td>3762147</td>\n",
       "      <td>2019-01-15</td>\n",
       "      <td>485.00</td>\n",
       "      <td>5331</td>\n",
       "      <td>nonfood</td>\n",
       "      <td>socialization</td>\n",
       "    </tr>\n",
       "  </tbody>\n",
       "</table>\n",
       "</div>"
      ],
      "text/plain": [
       "          client     card       date      amt   mcc    group          value\n",
       "3278420  1378858  2391344 2019-01-15   350.87  5499     food       survival\n",
       "3278421  3103680  3187433 2019-01-15  2660.00  5331  nonfood  socialization\n",
       "3278422  2136426  3762147 2019-01-15   485.00  5331  nonfood  socialization"
      ]
     },
     "execution_count": 36,
     "metadata": {},
     "output_type": "execute_result"
    }
   ],
   "source": [
    "filtered_data.head(3)"
   ]
  },
  {
   "cell_type": "code",
   "execution_count": 37,
   "metadata": {},
   "outputs": [],
   "source": [
    "def binary_to_hex(row):\n",
    "    binary_string = ''.join(map(str, row))\n",
    "    decimal_value = int(binary_string, 2)\n",
    "    return hex(decimal_value)[2:]"
   ]
  },
  {
   "cell_type": "code",
   "execution_count": 38,
   "metadata": {},
   "outputs": [],
   "source": [
    "grouped = filtered_data.groupby(['client', 'date'])\n",
    "new_data = []\n",
    "for (client, date), group in grouped:\n",
    "    row = {'client': client, 'date': date}\n",
    "    for val in values_to_keep:\n",
    "        row[val] = 1 if val in group['value'].values else 0  \n",
    "    new_data.append(row)\n",
    "\n",
    "new_df = pd.DataFrame(new_data)\n",
    "new_df['code'] = new_df[['socialization', 'survival', 'money', 'self_realization']].apply(binary_to_hex, axis=1)"
   ]
  },
  {
   "cell_type": "code",
   "execution_count": 39,
   "metadata": {},
   "outputs": [
    {
     "data": {
      "text/html": [
       "<div>\n",
       "<style scoped>\n",
       "    .dataframe tbody tr th:only-of-type {\n",
       "        vertical-align: middle;\n",
       "    }\n",
       "\n",
       "    .dataframe tbody tr th {\n",
       "        vertical-align: top;\n",
       "    }\n",
       "\n",
       "    .dataframe thead th {\n",
       "        text-align: right;\n",
       "    }\n",
       "</style>\n",
       "<table border=\"1\" class=\"dataframe\">\n",
       "  <thead>\n",
       "    <tr style=\"text-align: right;\">\n",
       "      <th></th>\n",
       "      <th>client</th>\n",
       "      <th>date</th>\n",
       "      <th>socialization</th>\n",
       "      <th>survival</th>\n",
       "      <th>money</th>\n",
       "      <th>self_realization</th>\n",
       "      <th>code</th>\n",
       "    </tr>\n",
       "  </thead>\n",
       "  <tbody>\n",
       "    <tr>\n",
       "      <th>0</th>\n",
       "      <td>224</td>\n",
       "      <td>2019-01-15</td>\n",
       "      <td>1</td>\n",
       "      <td>0</td>\n",
       "      <td>0</td>\n",
       "      <td>0</td>\n",
       "      <td>8</td>\n",
       "    </tr>\n",
       "    <tr>\n",
       "      <th>1</th>\n",
       "      <td>224</td>\n",
       "      <td>2019-01-16</td>\n",
       "      <td>1</td>\n",
       "      <td>1</td>\n",
       "      <td>0</td>\n",
       "      <td>1</td>\n",
       "      <td>d</td>\n",
       "    </tr>\n",
       "    <tr>\n",
       "      <th>2</th>\n",
       "      <td>224</td>\n",
       "      <td>2019-01-17</td>\n",
       "      <td>1</td>\n",
       "      <td>1</td>\n",
       "      <td>0</td>\n",
       "      <td>0</td>\n",
       "      <td>c</td>\n",
       "    </tr>\n",
       "    <tr>\n",
       "      <th>3</th>\n",
       "      <td>224</td>\n",
       "      <td>2019-01-18</td>\n",
       "      <td>1</td>\n",
       "      <td>0</td>\n",
       "      <td>0</td>\n",
       "      <td>0</td>\n",
       "      <td>8</td>\n",
       "    </tr>\n",
       "    <tr>\n",
       "      <th>4</th>\n",
       "      <td>224</td>\n",
       "      <td>2019-01-19</td>\n",
       "      <td>1</td>\n",
       "      <td>0</td>\n",
       "      <td>0</td>\n",
       "      <td>1</td>\n",
       "      <td>9</td>\n",
       "    </tr>\n",
       "    <tr>\n",
       "      <th>5</th>\n",
       "      <td>224</td>\n",
       "      <td>2019-01-21</td>\n",
       "      <td>1</td>\n",
       "      <td>1</td>\n",
       "      <td>0</td>\n",
       "      <td>1</td>\n",
       "      <td>d</td>\n",
       "    </tr>\n",
       "    <tr>\n",
       "      <th>6</th>\n",
       "      <td>224</td>\n",
       "      <td>2019-01-22</td>\n",
       "      <td>1</td>\n",
       "      <td>0</td>\n",
       "      <td>0</td>\n",
       "      <td>0</td>\n",
       "      <td>8</td>\n",
       "    </tr>\n",
       "    <tr>\n",
       "      <th>7</th>\n",
       "      <td>224</td>\n",
       "      <td>2019-01-23</td>\n",
       "      <td>1</td>\n",
       "      <td>0</td>\n",
       "      <td>0</td>\n",
       "      <td>0</td>\n",
       "      <td>8</td>\n",
       "    </tr>\n",
       "    <tr>\n",
       "      <th>8</th>\n",
       "      <td>224</td>\n",
       "      <td>2019-01-24</td>\n",
       "      <td>1</td>\n",
       "      <td>0</td>\n",
       "      <td>0</td>\n",
       "      <td>0</td>\n",
       "      <td>8</td>\n",
       "    </tr>\n",
       "    <tr>\n",
       "      <th>9</th>\n",
       "      <td>224</td>\n",
       "      <td>2019-01-25</td>\n",
       "      <td>1</td>\n",
       "      <td>0</td>\n",
       "      <td>0</td>\n",
       "      <td>0</td>\n",
       "      <td>8</td>\n",
       "    </tr>\n",
       "  </tbody>\n",
       "</table>\n",
       "</div>"
      ],
      "text/plain": [
       "   client       date  socialization  survival  money  self_realization code\n",
       "0     224 2019-01-15              1         0      0                 0    8\n",
       "1     224 2019-01-16              1         1      0                 1    d\n",
       "2     224 2019-01-17              1         1      0                 0    c\n",
       "3     224 2019-01-18              1         0      0                 0    8\n",
       "4     224 2019-01-19              1         0      0                 1    9\n",
       "5     224 2019-01-21              1         1      0                 1    d\n",
       "6     224 2019-01-22              1         0      0                 0    8\n",
       "7     224 2019-01-23              1         0      0                 0    8\n",
       "8     224 2019-01-24              1         0      0                 0    8\n",
       "9     224 2019-01-25              1         0      0                 0    8"
      ]
     },
     "execution_count": 39,
     "metadata": {},
     "output_type": "execute_result"
    }
   ],
   "source": [
    "new_df.head(10)"
   ]
  },
  {
   "cell_type": "markdown",
   "metadata": {},
   "source": [
    "## Алгоритм оценки Колмогоровской сложности "
   ]
  },
  {
   "cell_type": "markdown",
   "metadata": {},
   "source": [
    "### Пример работы для одного клиента"
   ]
  },
  {
   "cell_type": "code",
   "execution_count": 40,
   "metadata": {},
   "outputs": [],
   "source": [
    "selected_columns = ['date', 'socialization', 'survival', 'money', 'self_realization', 'code']\n",
    "client_224_transactions = new_df[new_df['client'] == 224].loc[:, selected_columns]"
   ]
  },
  {
   "cell_type": "code",
   "execution_count": 41,
   "metadata": {},
   "outputs": [
    {
     "data": {
      "text/plain": [
       "(259, 6)"
      ]
     },
     "execution_count": 41,
     "metadata": {},
     "output_type": "execute_result"
    }
   ],
   "source": [
    "client_224_transactions.shape"
   ]
  },
  {
   "cell_type": "code",
   "execution_count": 42,
   "metadata": {},
   "outputs": [],
   "source": [
    "text = client_224_transactions['code'].values\n",
    "huffman_codes = huffman_code(text)\n",
    "encoded_string = ''.join(huffman_codes[symbol] for symbol in text)"
   ]
  },
  {
   "cell_type": "code",
   "execution_count": 43,
   "metadata": {},
   "outputs": [
    {
     "name": "stdout",
     "output_type": "stream",
     "text": [
      "Результаты кодирования Хаффмана:\n",
      "------------------------------\n",
      "Закодированная строка:\n",
      "100101011110010100001010110010010010000000001011000000000000000000110110000111010010111110001011010010011101011001000100110011000000011000100000000010001001001111101111101000110001110010000000001110110011000001011111011010100101000111011000010000110111001001110001100100100001010000101010000000000010000000010111001011000101001101100001011000100110001110011100011110011010011111011100100100010010000110100100111010000111001001001111010011100110111110011111110101111010001001100010011110011001111000100100110\n",
      "Таблица кодов Хаффмана:\n",
      "  Код Хаффмана\n",
      "c           11\n",
      "5         1011\n",
      "d        10101\n",
      "6      1010011\n",
      "1      1010010\n",
      "e      1010001\n",
      "9      1010000\n",
      "8          100\n",
      "4            0\n",
      "Сложность: 1.958\n"
     ]
    }
   ],
   "source": [
    "print(\"Результаты кодирования Хаффмана:\")\n",
    "print(\"-\" * 30)\n",
    "print(f\"Закодированная строка:\\n{encoded_string}\")\n",
    "print(\"Таблица кодов Хаффмана:\")\n",
    "print(pd.DataFrame.from_dict(huffman_codes, orient='index', columns=['Код Хаффмана']))\n",
    "complexity = len(encoded_string) / len(text)\n",
    "print(f\"Сложность: {complexity:.3f}\")"
   ]
  },
  {
   "cell_type": "code",
   "execution_count": 44,
   "metadata": {},
   "outputs": [],
   "source": [
    "def create_dataset(time_series, lzw_depth, forecast_horizon):\n",
    "    \"\"\"\n",
    "    Создает обучающий набор данных для прогнозирования временных рядов.\n",
    "\n",
    "    Args:\n",
    "        time_series: Временной ряд (numpy array).\n",
    "        lzw_depth: Глубина Lempel-Ziv кодирования (int).\n",
    "        forecast_horizon: Горизонт прогнозирования (int).\n",
    "\n",
    "    Returns:\n",
    "        Кортеж (X, y):  X - входные данные, y - целевые значения.\n",
    "    \"\"\"\n",
    "    hankel_matrix = hankel(time_series) \n",
    "    X0 = hankel_matrix[:-lzw_depth - forecast_horizon + 1, :lzw_depth]\n",
    "    X = []\n",
    "    for i in range(X0.shape[0] - forecast_horizon - 1):\n",
    "        X.append(X0[i:i + forecast_horizon + 1, :].T)\n",
    "    X = np.array(X)\n",
    "    y = hankel_matrix[:-lzw_depth - 2 * forecast_horizon, lzw_depth + forecast_horizon:lzw_depth + 2 * forecast_horizon]\n",
    "    return X, y"
   ]
  },
  {
   "cell_type": "code",
   "execution_count": 45,
   "metadata": {},
   "outputs": [
    {
     "data": {
      "text/plain": [
       "((189, 56, 8), (189, 7))"
      ]
     },
     "execution_count": 45,
     "metadata": {},
     "output_type": "execute_result"
    }
   ],
   "source": [
    "text = client_224_transactions['survival'].values\n",
    "forecast_horizon = 7 \n",
    "lzw_depth = 56   \n",
    "X, y = create_dataset(text, lzw_depth, forecast_horizon)\n",
    "X_train, X_test, y_train, y_test = train_test_split(X, y, test_size=0.2, random_state=42)\n",
    "X.shape, y.shape"
   ]
  },
  {
   "cell_type": "code",
   "execution_count": 46,
   "metadata": {},
   "outputs": [],
   "source": [
    "model = keras.Sequential([\n",
    "    LSTM(X_train.shape[1], return_sequences=True),\n",
    "    Dropout(0.3),\n",
    "    LSTM(X_train.shape[1], return_sequences=False),\n",
    "    Dense(X_train.shape[1], activation='tanh'),\n",
    "    Dense(y_train.shape[1], activation='sigmoid')\n",
    "])"
   ]
  },
  {
   "cell_type": "code",
   "execution_count": null,
   "metadata": {},
   "outputs": [],
   "source": [
    "model.compile(optimizer='adam', loss='binary_crossentropy', metrics=['accuracy'])"
   ]
  },
  {
   "cell_type": "code",
   "execution_count": 48,
   "metadata": {},
   "outputs": [
    {
     "data": {
      "text/plain": [
       "<keras.src.callbacks.history.History at 0x217dc8094c0>"
      ]
     },
     "execution_count": 48,
     "metadata": {},
     "output_type": "execute_result"
    }
   ],
   "source": [
    "model.fit(X_train, y_train, epochs=15, batch_size=1, verbose=0) "
   ]
  },
  {
   "cell_type": "code",
   "execution_count": 23,
   "metadata": {},
   "outputs": [],
   "source": [
    "def calculate_f1_accuracy(y_pred, y_true):\n",
    "    \"\"\"Вычисляет F1-меру и точность.\n",
    "\n",
    "    Args:\n",
    "        y_pred: Предсказанные бинарные метки (массив NumPy).\n",
    "        y_true: Истинные бинарные метки (массив NumPy).\n",
    "\n",
    "    Returns:\n",
    "        Кортеж: (F1-мера, точность). Возвращает (0, 0), если нет положительных предсказаний.\n",
    "    \"\"\"\n",
    "    y_pred = y_pred.astype(int)  \n",
    "    y_true = y_true.astype(int)  \n",
    "\n",
    "    tp = np.sum((y_pred == 1) & (y_true == 1)) \n",
    "    tn = np.sum((y_pred == 0) & (y_true == 0))  \n",
    "    fp = np.sum((y_pred == 1) & (y_true == 0))  \n",
    "    fn = np.sum((y_pred == 0) & (y_true == 1))  \n",
    "\n",
    "    if tp + fp == 0 or tp + fn == 0:\n",
    "        precision = 0.0\n",
    "        recall = 0.0\n",
    "        f1 = 0.0\n",
    "    else:\n",
    "        precision = tp / (tp + fp)  \n",
    "        recall = tp / (tp + fn)     \n",
    "        f1 = 2 * precision * recall / (precision + recall) if (precision + recall) != 0 else 0.0 \n",
    "\n",
    "    accuracy = (tp + tn) / (tp + tn + fp + fn) * 100 if (tp + tn + fp + fn) != 0 else 0.0\n",
    "\n",
    "    return f1, accuracy"
   ]
  },
  {
   "cell_type": "code",
   "execution_count": 24,
   "metadata": {},
   "outputs": [
    {
     "name": "stdout",
     "output_type": "stream",
     "text": [
      "\u001b[1m2/2\u001b[0m \u001b[32m━━━━━━━━━━━━━━━━━━━━\u001b[0m\u001b[37m\u001b[0m \u001b[1m1s\u001b[0m 335ms/step\n",
      "День 1: F1=0.90; Точность: 81.6%\n",
      "День 2: F1=0.88; Точность: 78.9%\n",
      "День 3: F1=0.84; Точность: 73.7%\n",
      "День 4: F1=0.75; Точность: 60.5%\n",
      "День 5: F1=0.88; Точность: 78.9%\n",
      "День 6: F1=0.86; Точность: 76.3%\n",
      "День 7: F1=0.83; Точность: 71.1%\n"
     ]
    }
   ],
   "source": [
    "predictions = model.predict(X_test) \n",
    "\n",
    "for i in range(y_test.shape[1]):\n",
    "    f1, accuracy = calculate_f1_accuracy(predictions[:, i].round(), y_test[:, i])\n",
    "    print(f'День {i+1}: F1={f1:.2f}; Точность: {accuracy:.1f}%')"
   ]
  },
  {
   "cell_type": "markdown",
   "metadata": {},
   "source": [
    "### Пример работы для нескольких клиентов"
   ]
  },
  {
   "cell_type": "code",
   "execution_count": 50,
   "metadata": {},
   "outputs": [],
   "source": [
    "num_clients = 3  # Количество клиентов (обработка одного занимает 4-5 минут)\n",
    "prediction_start_index = 52  # Индекс, с которого начинаем прогнозирование\n",
    "forecast_horizons = [1, 7, 14, 28]  # Горизонты прогнозирования (в днях)\n",
    "client_ids = list(data['client'].value_counts().index)  \n",
    "\n",
    "results_df = pd.DataFrame(columns=['client_id'] + [f'f1_{horizon}' for horizon in forecast_horizons])\n",
    "results_df['client_id'] = client_ids  "
   ]
  },
  {
   "cell_type": "code",
   "execution_count": 53,
   "metadata": {},
   "outputs": [
    {
     "name": "stdout",
     "output_type": "stream",
     "text": [
      "\u001b[1m2/2\u001b[0m \u001b[32m━━━━━━━━━━━━━━━━━━━━\u001b[0m\u001b[37m\u001b[0m \u001b[1m1s\u001b[0m 316ms/step\n",
      "WARNING:tensorflow:5 out of the last 5 calls to <function TensorFlowTrainer.make_predict_function.<locals>.one_step_on_data_distributed at 0x000002179CCEE8E0> triggered tf.function retracing. Tracing is expensive and the excessive number of tracings could be due to (1) creating @tf.function repeatedly in a loop, (2) passing tensors with different shapes, (3) passing Python objects instead of tensors. For (1), please define your @tf.function outside of the loop. For (2), @tf.function has reduce_retracing=True option that can avoid unnecessary retracing. For (3), please refer to https://www.tensorflow.org/guide/function#controlling_retracing and https://www.tensorflow.org/api_docs/python/tf/function for  more details.\n",
      "\u001b[1m1/2\u001b[0m \u001b[32m━━━━━━━━━━\u001b[0m\u001b[37m━━━━━━━━━━\u001b[0m \u001b[1m0s\u001b[0m 316ms/stepWARNING:tensorflow:6 out of the last 6 calls to <function TensorFlowTrainer.make_predict_function.<locals>.one_step_on_data_distributed at 0x000002179CCEE8E0> triggered tf.function retracing. Tracing is expensive and the excessive number of tracings could be due to (1) creating @tf.function repeatedly in a loop, (2) passing tensors with different shapes, (3) passing Python objects instead of tensors. For (1), please define your @tf.function outside of the loop. For (2), @tf.function has reduce_retracing=True option that can avoid unnecessary retracing. For (3), please refer to https://www.tensorflow.org/guide/function#controlling_retracing and https://www.tensorflow.org/api_docs/python/tf/function for  more details.\n",
      "\u001b[1m2/2\u001b[0m \u001b[32m━━━━━━━━━━━━━━━━━━━━\u001b[0m\u001b[37m\u001b[0m \u001b[1m1s\u001b[0m 338ms/step\n",
      "\u001b[1m2/2\u001b[0m \u001b[32m━━━━━━━━━━━━━━━━━━━━\u001b[0m\u001b[37m\u001b[0m \u001b[1m1s\u001b[0m 317ms/step\n",
      "\u001b[1m2/2\u001b[0m \u001b[32m━━━━━━━━━━━━━━━━━━━━\u001b[0m\u001b[37m\u001b[0m \u001b[1m1s\u001b[0m 335ms/step\n",
      "\u001b[1m2/2\u001b[0m \u001b[32m━━━━━━━━━━━━━━━━━━━━\u001b[0m\u001b[37m\u001b[0m \u001b[1m1s\u001b[0m 300ms/step\n",
      "\u001b[1m2/2\u001b[0m \u001b[32m━━━━━━━━━━━━━━━━━━━━\u001b[0m\u001b[37m\u001b[0m \u001b[1m1s\u001b[0m 304ms/step\n",
      "\u001b[1m2/2\u001b[0m \u001b[32m━━━━━━━━━━━━━━━━━━━━\u001b[0m\u001b[37m\u001b[0m \u001b[1m1s\u001b[0m 305ms/step\n",
      "\u001b[1m2/2\u001b[0m \u001b[32m━━━━━━━━━━━━━━━━━━━━\u001b[0m\u001b[37m\u001b[0m \u001b[1m1s\u001b[0m 300ms/step\n",
      "\u001b[1m2/2\u001b[0m \u001b[32m━━━━━━━━━━━━━━━━━━━━\u001b[0m\u001b[37m\u001b[0m \u001b[1m1s\u001b[0m 349ms/step\n",
      "\u001b[1m2/2\u001b[0m \u001b[32m━━━━━━━━━━━━━━━━━━━━\u001b[0m\u001b[37m\u001b[0m \u001b[1m1s\u001b[0m 319ms/step\n",
      "\u001b[1m2/2\u001b[0m \u001b[32m━━━━━━━━━━━━━━━━━━━━\u001b[0m\u001b[37m\u001b[0m \u001b[1m1s\u001b[0m 326ms/step\n",
      "\u001b[1m2/2\u001b[0m \u001b[32m━━━━━━━━━━━━━━━━━━━━\u001b[0m\u001b[37m\u001b[0m \u001b[1m1s\u001b[0m 309ms/step\n"
     ]
    }
   ],
   "source": [
    "for i in range(num_clients):\n",
    "    client_transactions = new_df[new_df['client'] == client_ids[i]].loc[:, selected_columns]['survival'].values  \n",
    "\n",
    "    for j, forecast_horizon in enumerate(forecast_horizons):\n",
    "        X, y = create_dataset(client_transactions, lzw_depth, forecast_horizon)\n",
    "        X_train, X_test, y_train, y_test = train_test_split(X, y, test_size=0.2, random_state=42)\n",
    "\n",
    "        model = keras.Sequential([\n",
    "            LSTM(X_train.shape[1], return_sequences=True),\n",
    "            Dropout(0.3),\n",
    "            LSTM(X_train.shape[1], return_sequences=False),\n",
    "            Dense(X_train.shape[1], activation='tanh'),\n",
    "            Dense(y_train.shape[1], activation='sigmoid')\n",
    "        ])\n",
    "\n",
    "        model.compile(optimizer='adam', loss='binary_crossentropy', metrics=['accuracy'])\n",
    "\n",
    "        model.fit(X_train, y_train, epochs=15, batch_size=1, verbose=0) \n",
    "        \n",
    "        predictions = model.predict(X_test) \n",
    "        f1, accuracy = calculate_f1_accuracy(predictions[:, -1].round().astype(int), y_test[:, -1])\n",
    "        results_df.iloc[i, 0]= client_ids[i]\n",
    "        results_df.iloc[i, 1 + j]= f1\n",
    "    del model"
   ]
  },
  {
   "cell_type": "code",
   "execution_count": 55,
   "metadata": {},
   "outputs": [
    {
     "data": {
      "text/html": [
       "<div>\n",
       "<style scoped>\n",
       "    .dataframe tbody tr th:only-of-type {\n",
       "        vertical-align: middle;\n",
       "    }\n",
       "\n",
       "    .dataframe tbody tr th {\n",
       "        vertical-align: top;\n",
       "    }\n",
       "\n",
       "    .dataframe thead th {\n",
       "        text-align: right;\n",
       "    }\n",
       "</style>\n",
       "<table border=\"1\" class=\"dataframe\">\n",
       "  <thead>\n",
       "    <tr style=\"text-align: right;\">\n",
       "      <th></th>\n",
       "      <th>client_id</th>\n",
       "      <th>f1_1</th>\n",
       "      <th>f1_7</th>\n",
       "      <th>f1_14</th>\n",
       "      <th>f1_28</th>\n",
       "    </tr>\n",
       "  </thead>\n",
       "  <tbody>\n",
       "    <tr>\n",
       "      <th>0</th>\n",
       "      <td>224763</td>\n",
       "      <td>0.960784</td>\n",
       "      <td>0.901099</td>\n",
       "      <td>0.921348</td>\n",
       "      <td>0.95</td>\n",
       "    </tr>\n",
       "    <tr>\n",
       "      <th>1</th>\n",
       "      <td>498117</td>\n",
       "      <td>0.571429</td>\n",
       "      <td>0.666667</td>\n",
       "      <td>0.457143</td>\n",
       "      <td>0.787879</td>\n",
       "    </tr>\n",
       "    <tr>\n",
       "      <th>2</th>\n",
       "      <td>2472046</td>\n",
       "      <td>0.977778</td>\n",
       "      <td>0.925</td>\n",
       "      <td>0.90411</td>\n",
       "      <td>0.955224</td>\n",
       "    </tr>\n",
       "  </tbody>\n",
       "</table>\n",
       "</div>"
      ],
      "text/plain": [
       "   client_id      f1_1      f1_7     f1_14     f1_28\n",
       "0     224763  0.960784  0.901099  0.921348      0.95\n",
       "1     498117  0.571429  0.666667  0.457143  0.787879\n",
       "2    2472046  0.977778     0.925   0.90411  0.955224"
      ]
     },
     "execution_count": 55,
     "metadata": {},
     "output_type": "execute_result"
    }
   ],
   "source": [
    "results_df.head(3)"
   ]
  }
 ],
 "metadata": {
  "kernelspec": {
   "display_name": ".venv",
   "language": "python",
   "name": "python3"
  },
  "language_info": {
   "codemirror_mode": {
    "name": "ipython",
    "version": 3
   },
   "file_extension": ".py",
   "mimetype": "text/x-python",
   "name": "python",
   "nbconvert_exporter": "python",
   "pygments_lexer": "ipython3",
   "version": "3.12.4"
  }
 },
 "nbformat": 4,
 "nbformat_minor": 2
}
